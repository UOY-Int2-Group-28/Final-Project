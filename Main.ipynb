{
 "cells": [
  {
   "cell_type": "code",
   "execution_count": 5,
   "id": "partial-jesus",
   "metadata": {},
   "outputs": [],
   "source": [
    "import tensorflow as tf\n",
    "import numpy as np"
   ]
  },
  {
   "cell_type": "code",
   "execution_count": 6,
   "id": "blocked-accessory",
   "metadata": {},
   "outputs": [],
   "source": [
    "def preprocessDataset(dataset):\n",
    "    \"\"\"\n",
    "    Preprocesses an entire set of datapoints so that they are usable by a neural network\n",
    "\n",
    "    :param dataset: The dataset that is to be preprocessed in the form (images, labels)\n",
    "    :return: The preprocessed dataset in the form (processedImages, processedLabels)\n",
    "    \"\"\"\n",
    "\n",
    "    # Unpacks the dataset into the images (input data) and labels (expected output data)\n",
    "    images, labels = dataset\n",
    "\n",
    "    # Preprocesses the input data\n",
    "    newImages = images.reshape(images.shape[0], images.shape[1], images.shape[2], 3)\n",
    "    # Condenses the values of the images so that they fall within 0 and 1\n",
    "    newImages = newImages / 255.0\n",
    "\n",
    "    # Preprocesses the expected output data\n",
    "    newLabels = labels.flatten()\n",
    "\n",
    "    # Converts the labels from a 1D array of numbers ranging from 1 - 10 to a 2D array of 0s\n",
    "    # in which each number in the 1D array has a respective array within the 2D array, and\n",
    "    # the value of said number is the index in the other array that is a 1\n",
    "    #\n",
    "    # For example:\n",
    "    # 1D array: [ 1, 2, 2, 4, 3 ]\n",
    "    # One Hotted 2D Array:\n",
    "    # [ [ 1, 0, 0, 0 ],   // 1\n",
    "    #   [ 0, 1, 0, 0 ],   // 2\n",
    "    #   [ 0, 1, 0, 0 ],   // 2\n",
    "    #   [ 0, 0, 0, 1 ],   // 4\n",
    "    #   [ 0, 0, 1, 0 ] ]  // 3\n",
    "    newLabels = tf.one_hot(newLabels.asType(np.int32), depth=10)\n",
    "\n",
    "    return newImages, newLabels\n",
    "\n",
    "\n",
    "def getRawDatasets():\n",
    "    \"\"\"\n",
    "    :return: The unprocessed datasets that the neural network is to be trained on and tested against\n",
    "    \"\"\"\n",
    "\n",
    "    # Using the CIFAR-10 dataset\n",
    "    return tf.keras.datasets.cifar10.load_data()"
   ]
  },
  {
   "cell_type": "code",
   "execution_count": null,
   "id": "international-rough",
   "metadata": {},
   "outputs": [],
   "source": []
  }
 ],
 "metadata": {
  "kernelspec": {
   "display_name": "Python 3",
   "language": "python",
   "name": "python3"
  },
  "language_info": {
   "codemirror_mode": {
    "name": "ipython",
    "version": 3
   },
   "file_extension": ".py",
   "mimetype": "text/x-python",
   "name": "python",
   "nbconvert_exporter": "python",
   "pygments_lexer": "ipython3",
   "version": "3.9.1"
  }
 },
 "nbformat": 4,
 "nbformat_minor": 5
}
