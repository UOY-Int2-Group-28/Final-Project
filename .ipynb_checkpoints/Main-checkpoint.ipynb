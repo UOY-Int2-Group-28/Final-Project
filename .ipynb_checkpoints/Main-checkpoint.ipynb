{
 "cells": [
  {
   "cell_type": "code",
   "execution_count": 1,
   "id": "partial-jesus",
   "metadata": {},
   "outputs": [
    {
     "name": "stdout",
     "output_type": "stream",
     "text": [
      "INFO:tensorflow:Enabling eager execution\n",
      "INFO:tensorflow:Enabling v2 tensorshape\n",
      "INFO:tensorflow:Enabling resource variables\n",
      "INFO:tensorflow:Enabling tensor equality\n",
      "INFO:tensorflow:Enabling control flow v2\n"
     ]
    }
   ],
   "source": [
    "import tensorflow as tf"
   ]
  },
  {
   "cell_type": "code",
   "execution_count": 2,
   "id": "blocked-accessory",
   "metadata": {},
   "outputs": [],
   "source": [
    "def preprocessDataset(dataset):\n",
    "    \"\"\"\n",
    "    Preprocesses an entire set of datapoints so that they are usable by a neural network\n",
    "\n",
    "    :param dataset: The dataset that is to be preprocessed\n",
    "    :return: The preprocessed dataset\n",
    "    \"\"\"\n",
    "    pass\n",
    "\n",
    "\n",
    "def getRawDatasets():\n",
    "    \"\"\"\n",
    "    :return: The unprocessed datasets that the neural network is to be trained on and tested against\n",
    "    \"\"\"\n",
    "    pass"
   ]
  },
  {
   "cell_type": "code",
   "execution_count": null,
   "id": "international-rough",
   "metadata": {},
   "outputs": [],
   "source": []
  }
 ],
 "metadata": {
  "kernelspec": {
   "display_name": "Python 3",
   "language": "python",
   "name": "python3"
  },
  "language_info": {
   "codemirror_mode": {
    "name": "ipython",
    "version": 3
   },
   "file_extension": ".py",
   "mimetype": "text/x-python",
   "name": "python",
   "nbconvert_exporter": "python",
   "pygments_lexer": "ipython3",
   "version": "3.9.1"
  }
 },
 "nbformat": 4,
 "nbformat_minor": 5
}
