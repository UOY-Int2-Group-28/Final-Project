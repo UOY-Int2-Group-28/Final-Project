{
 "cells": [
  {
   "cell_type": "code",
   "execution_count": 1,
   "id": "medieval-service",
   "metadata": {},
   "outputs": [
    {
     "name": "stdout",
     "output_type": "stream",
     "text": [
      "INFO:tensorflow:Enabling eager execution\n",
      "INFO:tensorflow:Enabling v2 tensorshape\n",
      "INFO:tensorflow:Enabling resource variables\n",
      "INFO:tensorflow:Enabling tensor equality\n",
      "INFO:tensorflow:Enabling control flow v2\n"
     ]
    }
   ],
   "source": [
    "import tensorflow as tf\n",
    "import numpy as np\n",
    "from datetime import datetime"
   ]
  },
  {
   "cell_type": "code",
   "execution_count": 2,
   "id": "blocked-accessory",
   "metadata": {},
   "outputs": [],
   "source": [
    "def preprocessDataset(dataset):\n",
    "    \"\"\"\n",
    "    Preprocesses an entire set of datapoints so that they are usable by a neural network\n",
    "\n",
    "    :param dataset: The dataset that is to be preprocessed in the form (images, labels)\n",
    "    :return: The preprocessed dataset in the form (processedImages, processedLabels)\n",
    "    \"\"\"\n",
    "\n",
    "    # Unpacks the dataset into the images (input data) and labels (expected output data)\n",
    "    images, labels = dataset\n",
    "\n",
    "    # Preprocesses the input data\n",
    "    newImages = images.reshape(images.shape[0], images.shape[1], images.shape[2], 3)\n",
    "    # Condenses the values of the images so that they fall within 0 and 1\n",
    "    newImages = newImages / 255.0\n",
    "\n",
    "    # Preprocesses the expected output data\n",
    "    newLabels = labels.flatten()\n",
    "\n",
    "    # Converts the labels from a 1D array of numbers ranging from 1 - 10 to a 2D array of 0s\n",
    "    # in which each number in the 1D array has a respective array within the 2D array, and\n",
    "    # the value of said number is the index in the other array that is a 1\n",
    "    #\n",
    "    # For example:\n",
    "    # 1D array: [ 1, 2, 2, 4, 3 ]\n",
    "    # One Hotted 2D Array:\n",
    "    # [ [ 1, 0, 0, 0 ],   // 1\n",
    "    #   [ 0, 1, 0, 0 ],   // 2\n",
    "    #   [ 0, 1, 0, 0 ],   // 2\n",
    "    #   [ 0, 0, 0, 1 ],   // 4\n",
    "    #   [ 0, 0, 1, 0 ] ]  // 3\n",
    "    newLabels = tf.one_hot(newLabels.astype(np.int32), depth=10)\n",
    "\n",
    "    return newImages, newLabels\n",
    "\n",
    "\n",
    "def getRawDatasets():\n",
    "    \"\"\"\n",
    "    :return: The unprocessed datasets that the neural network is to be trained on and tested against\n",
    "    \"\"\"\n",
    "\n",
    "    # Using the CIFAR-10 dataset\n",
    "    return tf.keras.datasets.cifar10.load_data()"
   ]
  },
  {
   "cell_type": "code",
   "execution_count": 3,
   "id": "international-rough",
   "metadata": {},
   "outputs": [],
   "source": [
    "def getTrainingConfigurations():\n",
    "    \"\"\"\n",
    "    Epochs: The amount of times the neural network trains against the entire training dataset\n",
    "    Batch Size: The amount of samples ran through before the gradient update is applied\n",
    "    Callbacks: The set of callbacks that will be applied during the training (e.g. saving)\n",
    "    Optimizer: The method that will be used in training the neural network\n",
    "    Loss Function: The loss function the neural network will use to judge its performance\n",
    "    Metrics: The metrics that will allow the user to understand the performance of the neural network\n",
    "\n",
    "    :param saveDir: The directory where the neural network is saved, indicated only if loading a neural network\n",
    "    :return: A tuple of the configurations described above, in order\n",
    "    \"\"\"\n",
    "\n",
    "    epochs = 300\n",
    "    batchSize = 32\n",
    "\n",
    "    # Gets the datetime now as to create unique folders\n",
    "    timeNow = datetime.now().strftime(\"%Y%m%d-%H%M%S\")\n",
    "    # The folder the fitness logs will be saved to\n",
    "    logDir = \"logs/fit/\" + timeNow\n",
    "    # The directory the neural network will be saved to\n",
    "    saveDir = \"save files/\" + timeNow\n",
    "\n",
    "    callbacks = [tf.keras.callbacks.TensorBoard(log_dir=logDir, histogram_freq=1),\n",
    "                 tf.keras.callbacks.ModelCheckpoint(filepath=saveDir, verbose=1)]\n",
    "\n",
    "    optimizer = tf.keras.optimizers.SGD(lr=0.001, momentum=0.9)\n",
    "\n",
    "    loss = \"categorical_crossentropy\"\n",
    "\n",
    "    metrics = [\"accuracy\"]\n",
    "\n",
    "    return epochs, batchSize, callbacks, optimizer, loss, metrics"
   ]
  },
  {
   "cell_type": "code",
   "execution_count": 4,
   "id": "amazing-blogger",
   "metadata": {},
   "outputs": [
    {
     "name": "stderr",
     "output_type": "stream",
     "text": [
      "C:\\Users\\user\\AppData\\Local\\Programs\\Python\\Python39\\lib\\site-packages\\tensorflow\\python\\keras\\optimizer_v2\\optimizer_v2.py:374: UserWarning: The `lr` argument is deprecated, use `learning_rate` instead.\n",
      "  warnings.warn(\n"
     ]
    }
   ],
   "source": [
    "# Main function\n",
    "if __name__ == \"__main__\":\n",
    "    # Training configurations\n",
    "    epochs, batchSize, callbacks, optimizer, loss, metrics = getTrainingConfigurations()\n",
    "\n",
    "    # Raw datasets\n",
    "    rawTrainingDataset, rawTestingDataset = getRawDatasets()\n",
    "\n",
    "    # Preprocessed datasets\n",
    "    trainingImages, trainingLabels = preprocessDataset(rawTrainingDataset)\n",
    "    testingImages, testingLabels = preprocessDataset(rawTestingDataset)"
   ]
  },
  {
   "cell_type": "code",
   "execution_count": null,
   "id": "virgin-arthur",
   "metadata": {},
   "outputs": [],
   "source": []
  }
 ],
 "metadata": {
  "kernelspec": {
   "display_name": "Python 3",
   "language": "python",
   "name": "python3"
  },
  "language_info": {
   "codemirror_mode": {
    "name": "ipython",
    "version": 3
   },
   "file_extension": ".py",
   "mimetype": "text/x-python",
   "name": "python",
   "nbconvert_exporter": "python",
   "pygments_lexer": "ipython3",
   "version": "3.9.1"
  }
 },
 "nbformat": 4,
 "nbformat_minor": 5
}
